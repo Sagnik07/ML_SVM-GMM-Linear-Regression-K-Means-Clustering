{
 "cells": [
  {
   "cell_type": "code",
   "execution_count": 1,
   "metadata": {
    "colab": {
     "base_uri": "https://localhost:8080/",
     "height": 124
    },
    "colab_type": "code",
    "id": "15aGilo_rqn5",
    "outputId": "411c6a68-dba5-4192-fb36-5fb799fedec5"
   },
   "outputs": [
    {
     "name": "stdout",
     "output_type": "stream",
     "text": [
      "Go to this URL in a browser: https://accounts.google.com/o/oauth2/auth?client_id=947318989803-6bn6qk8qdgf4n4g3pfee6491hc0brc4i.apps.googleusercontent.com&redirect_uri=urn%3aietf%3awg%3aoauth%3a2.0%3aoob&response_type=code&scope=email%20https%3a%2f%2fwww.googleapis.com%2fauth%2fdocs.test%20https%3a%2f%2fwww.googleapis.com%2fauth%2fdrive%20https%3a%2f%2fwww.googleapis.com%2fauth%2fdrive.photos.readonly%20https%3a%2f%2fwww.googleapis.com%2fauth%2fpeopleapi.readonly\n",
      "\n",
      "Enter your authorization code:\n",
      "··········\n",
      "Mounted at /content/drive\n"
     ]
    }
   ],
   "source": [
    "from google.colab import drive\n",
    "drive.mount('/content/drive', force_remount=True)"
   ]
  },
  {
   "cell_type": "code",
   "execution_count": 0,
   "metadata": {
    "colab": {},
    "colab_type": "code",
    "id": "1v8H1tOOztlG"
   },
   "outputs": [],
   "source": [
    "import pandas as pd \n",
    "from pandas import DataFrame\n",
    "import math\n",
    "import numpy as np\n",
    "from numpy import genfromtxt\n",
    "import sklearn\n",
    "from collections import Counter\n",
    "import sys\n",
    "import matplotlib\n",
    "from sklearn.metrics import accuracy_score\n",
    "from sklearn.metrics import r2_score\n",
    "from sklearn.metrics import mean_squared_error\n",
    "from sklearn.metrics import mean_absolute_error\n",
    "from sklearn.preprocessing import LabelEncoder\n",
    "from sklearn.tree import DecisionTreeRegressor\n",
    "from sklearn.feature_extraction.text import TfidfVectorizer\n",
    "from sklearn.model_selection import train_test_split\n",
    "from sklearn.svm import SVC\n",
    "from nltk.corpus import stopwords\n",
    "from sklearn import linear_model\n",
    "from sklearn.svm import LinearSVC\n",
    "from sklearn.preprocessing import StandardScaler\n",
    "from sklearn.preprocessing import MinMaxScaler\n",
    "from matplotlib import pyplot as plt "
   ]
  },
  {
   "cell_type": "markdown",
   "metadata": {
    "colab_type": "text",
    "id": "Hqge0QL5fuYZ"
   },
   "source": [
    "## Training data\n",
    "In the following section, we read data from the files and store it in the training sets."
   ]
  },
  {
   "cell_type": "code",
   "execution_count": 6,
   "metadata": {
    "colab": {
     "base_uri": "https://localhost:8080/",
     "height": 295
    },
    "colab_type": "code",
    "id": "eJG1-DMGzxKG",
    "outputId": "a028d4e1-1d5f-491d-f346-f382255fe5b6"
   },
   "outputs": [
    {
     "name": "stdout",
     "output_type": "stream",
     "text": [
      "             Summary Precip Type  ...  Visibility (km)  Pressure (millibars)\n",
      "0      Partly Cloudy        rain  ...          15.8263               1015.13\n",
      "1      Partly Cloudy        rain  ...          15.8263               1015.63\n",
      "2      Mostly Cloudy        rain  ...          14.9569               1015.94\n",
      "3      Partly Cloudy        rain  ...          15.8263               1016.41\n",
      "4      Mostly Cloudy        rain  ...          15.8263               1016.51\n",
      "...              ...         ...  ...              ...                   ...\n",
      "77280  Partly Cloudy        rain  ...          16.1000               1014.07\n",
      "77281  Partly Cloudy        rain  ...          16.1000               1014.36\n",
      "77282  Partly Cloudy        rain  ...          15.5526               1015.16\n",
      "77283  Partly Cloudy        rain  ...          16.1000               1015.66\n",
      "77284  Partly Cloudy        rain  ...          16.1000               1015.95\n",
      "\n",
      "[77285 rows x 8 columns]\n",
      "[ 7.38888889  7.22777778  9.37777778 ... 24.58333333 22.03888889\n",
      " 21.52222222]\n"
     ]
    }
   ],
   "source": [
    "data=pd.read_csv('/content/drive/My Drive/Assignment-2_Dataset/Datasets/Question-4/weather.csv')\n",
    "y=data['Apparent Temperature (C)']\n",
    "data=data.drop(['Apparent Temperature (C)','Formatted Date','Daily Summary'],axis=1)\n",
    "y=y.to_numpy()\n",
    "X=data\n",
    "# X=data.to_numpy()\n",
    "print(X)\n",
    "print(y)\n",
    "# X.shape"
   ]
  },
  {
   "cell_type": "markdown",
   "metadata": {
    "colab_type": "text",
    "id": "6d_y1XFpgqQL"
   },
   "source": [
    "### We perform one hot encoding on the categorical features of the data."
   ]
  },
  {
   "cell_type": "code",
   "execution_count": 8,
   "metadata": {
    "colab": {
     "base_uri": "https://localhost:8080/",
     "height": 243
    },
    "colab_type": "code",
    "id": "C7aN-wbv0vXf",
    "outputId": "07b565b1-63ba-44cd-a2d3-7692e9176764"
   },
   "outputs": [
    {
     "data": {
      "text/plain": [
       "array([[ 9.47222222,  0.89      , 14.1197    , ...,  0.        ,\n",
       "         1.        ,  0.        ],\n",
       "       [ 9.35555556,  0.86      , 14.2646    , ...,  0.        ,\n",
       "         1.        ,  0.        ],\n",
       "       [ 9.37777778,  0.89      ,  3.9284    , ...,  0.        ,\n",
       "         1.        ,  0.        ],\n",
       "       ...,\n",
       "       [24.58333333,  0.48      , 10.0947    , ...,  0.        ,\n",
       "         1.        ,  0.        ],\n",
       "       [22.03888889,  0.56      ,  8.9838    , ...,  0.        ,\n",
       "         1.        ,  0.        ],\n",
       "       [21.52222222,  0.6       , 10.5294    , ...,  0.        ,\n",
       "         1.        ,  0.        ]])"
      ]
     },
     "execution_count": 8,
     "metadata": {
      "tags": []
     },
     "output_type": "execute_result"
    }
   ],
   "source": [
    "dummy = pd.get_dummies(X)\n",
    "dummy.shape\n",
    "X=dummy.to_numpy()\n",
    "X"
   ]
  },
  {
   "cell_type": "markdown",
   "metadata": {
    "colab_type": "text",
    "id": "RvJIdasUg1wo"
   },
   "source": [
    "### We scale the data down using MinMax scaler of scikit-learn."
   ]
  },
  {
   "cell_type": "code",
   "execution_count": 9,
   "metadata": {
    "colab": {
     "base_uri": "https://localhost:8080/",
     "height": 156
    },
    "colab_type": "code",
    "id": "Crs5zxSZ8ViV",
    "outputId": "6f65d69d-c8cb-45ab-93d2-01c33a5bb313"
   },
   "outputs": [
    {
     "name": "stdout",
     "output_type": "stream",
     "text": [
      "[[0.50697507 0.89       0.2211296  ... 0.         1.         0.        ]\n",
      " [0.50508505 0.86       0.22339889 ... 0.         1.         0.        ]\n",
      " [0.50544505 0.89       0.06152295 ... 0.         1.         0.        ]\n",
      " ...\n",
      " [0.75177752 0.48       0.1580938  ... 0.         1.         0.        ]\n",
      " [0.71055711 0.56       0.14069592 ... 0.         1.         0.        ]\n",
      " [0.70218702 0.6        0.16490166 ... 0.         1.         0.        ]]\n",
      "(77285, 34)\n"
     ]
    }
   ],
   "source": [
    "scaler = MinMaxScaler()\n",
    "scaler.fit(X)\n",
    "X=scaler.transform(X)\n",
    "print(X)\n",
    "print(X.shape)"
   ]
  },
  {
   "cell_type": "markdown",
   "metadata": {
    "colab_type": "text",
    "id": "1ZRDBaAzflHD"
   },
   "source": [
    "### In the below section, we split the training data into train and test sets. Then we append a column of ones to the training set and initialize theta with random values."
   ]
  },
  {
   "cell_type": "code",
   "execution_count": 11,
   "metadata": {
    "colab": {
     "base_uri": "https://localhost:8080/",
     "height": 104
    },
    "colab_type": "code",
    "id": "LlfyCMji9KRS",
    "outputId": "bd6d2acc-37ac-41ed-91e7-db2c7cf96d8e"
   },
   "outputs": [
    {
     "name": "stdout",
     "output_type": "stream",
     "text": [
      "(61828, 34)\n",
      "(61828, 35)\n",
      "(15457, 34)\n",
      "(15457, 35)\n",
      "(61828,)\n"
     ]
    }
   ],
   "source": [
    "X_train, X_test, y_train, y_test = train_test_split(X, y, test_size = 0.20)\n",
    "print(X_train.shape)\n",
    "ones = np.ones([X_train.shape[0],1])\n",
    "X_train = np.concatenate((ones,X_train),axis=1)\n",
    "print(X_train.shape)\n",
    "print(X_test.shape)\n",
    "ones = np.ones([X_test.shape[0],1])\n",
    "X_test = np.concatenate((ones,X_test),axis=1)\n",
    "print(X_test.shape)\n",
    "np.random.seed(10)\n",
    "theta = np.random.rand(X_train.shape[1])\n",
    "print(y_train.shape)"
   ]
  },
  {
   "cell_type": "code",
   "execution_count": 0,
   "metadata": {
    "colab": {},
    "colab_type": "code",
    "id": "J0bz1uBieCz8"
   },
   "outputs": [],
   "source": [
    "no_of_iterations = 10000"
   ]
  },
  {
   "cell_type": "markdown",
   "metadata": {
    "colab_type": "text",
    "id": "4dj7kC8yfP6O"
   },
   "source": [
    "# Gradient Descent\n",
    "In this section we write the method for the gradient descent algorithm. We have taken number of iterations as 10000 and run the gradient descent algorithm for that many iterations. "
   ]
  },
  {
   "cell_type": "code",
   "execution_count": 0,
   "metadata": {
    "colab": {},
    "colab_type": "code",
    "id": "ZY9Xi0YT9LP5"
   },
   "outputs": [],
   "source": [
    "def gradient_descent(X_train, y_train, theta, alpha):\n",
    "    predictions = list()\n",
    "    cost_list = list()\n",
    "    cost_list.append(1e10)\n",
    "    i = 0 \n",
    "    m=len(y_train)\n",
    "    while i<=no_of_iterations:\n",
    "        temp = np.dot(X_train, theta)\n",
    "        error = temp - y_train\n",
    "        predictions.append(temp)\n",
    "        cost = 1/(2*m) * np.dot(error.T, error)\n",
    "        cost_list.append(cost)\n",
    "        theta = theta - (alpha * (1/m) * np.dot(X_train.T, error))\n",
    "        i = i + 1\n",
    "        # if(cost_list[no_of_iterations-1]-cost_list[no_of_iterations] < 1e-9):\n",
    "        #     break\n",
    "\n",
    "    cost_list.pop(0)\n",
    "    return predictions, cost_list, theta"
   ]
  },
  {
   "cell_type": "markdown",
   "metadata": {
    "colab_type": "text",
    "id": "dJlZl9XfgTD-"
   },
   "source": [
    "### We call the gradient descent function and get back the returned final cost and regression coefficients."
   ]
  },
  {
   "cell_type": "code",
   "execution_count": 19,
   "metadata": {
    "colab": {
     "base_uri": "https://localhost:8080/",
     "height": 69
    },
    "colab_type": "code",
    "id": "xksouz3Y9URn",
    "outputId": "3a89297d-641d-4740-c40d-1068b0682dae"
   },
   "outputs": [
    {
     "name": "stdout",
     "output_type": "stream",
     "text": [
      "(61828, 35)\n",
      "(61828,)\n",
      "(35,)\n"
     ]
    }
   ],
   "source": [
    "print(X_train.shape)\n",
    "print(y_train.shape)\n",
    "print(theta.shape)\n",
    "alpha = 0.1\n",
    "prediction_list, cost_list, theta = gradient_descent(X_train, y_train, theta, alpha)\n",
    "# theta = theta_list[-1]\n",
    "# print(len(theta_list))\n",
    "# print(theta.shape)\n",
    "yp=np.dot(X_test,theta)"
   ]
  },
  {
   "cell_type": "markdown",
   "metadata": {
    "colab_type": "text",
    "id": "YARzW52ugBgp"
   },
   "source": [
    "## Result\n",
    "The r2 score is calculated and found out to be **0.989**"
   ]
  },
  {
   "cell_type": "code",
   "execution_count": 20,
   "metadata": {
    "colab": {
     "base_uri": "https://localhost:8080/",
     "height": 34
    },
    "colab_type": "code",
    "id": "OukraQ2N974C",
    "outputId": "b2438239-b8d2-4d84-94b9-65aa9a4874da"
   },
   "outputs": [
    {
     "data": {
      "text/plain": [
       "0.9898468034472834"
      ]
     },
     "execution_count": 20,
     "metadata": {
      "tags": []
     },
     "output_type": "execute_result"
    }
   ],
   "source": [
    "r2_score(y_test,yp)"
   ]
  },
  {
   "cell_type": "markdown",
   "metadata": {
    "colab_type": "text",
    "id": "1LGkCd4DkPAo"
   },
   "source": [
    "## Graph plot \n",
    "The graph shown below depicts how the cost decreases as the number of iterations of gradient descent increases."
   ]
  },
  {
   "cell_type": "code",
   "execution_count": 23,
   "metadata": {
    "colab": {
     "base_uri": "https://localhost:8080/",
     "height": 296
    },
    "colab_type": "code",
    "id": "6dPJVryMjsEN",
    "outputId": "c1228cd7-549e-4319-c115-7bbeeb1b7080"
   },
   "outputs": [
    {
     "data": {
      "text/plain": [
       "Text(0, 0.5, 'Cost')"
      ]
     },
     "execution_count": 23,
     "metadata": {
      "tags": []
     },
     "output_type": "execute_result"
    },
    {
     "data": {
      "image/png": "[encoded data removed]",
      "text/plain": [
       "<Figure size 432x288 with 1 Axes>"
      ]
     },
     "metadata": {
      "tags": []
     },
     "output_type": "display_data"
    }
   ],
   "source": [
    "cost = list(cost_list)\n",
    "cost = cost[:5000]\n",
    "n_iterations = [x for x in range(1,no_of_iterations+1)]\n",
    "n_iterations = n_iterations[:5000]\n",
    "plt.plot(n_iterations, cost)\n",
    "plt.xlabel('No. of iterations')\n",
    "plt.ylabel('Cost')"
   ]
  }
 ],
 "metadata": {
  "accelerator": "GPU",
  "colab": {
   "collapsed_sections": [],
   "machine_shape": "hm",
   "name": "Copy of assign2_q4.ipynb",
   "provenance": []
  },
  "kernelspec": {
   "display_name": "Python 3",
   "language": "python",
   "name": "python3"
  },
  "language_info": {
   "codemirror_mode": {
    "name": "ipython",
    "version": 3
   },
   "file_extension": ".py",
   "mimetype": "text/x-python",
   "name": "python",
   "nbconvert_exporter": "python",
   "pygments_lexer": "ipython3",
   "version": "3.6.8"
  }
 },
 "nbformat": 4,
 "nbformat_minor": 1
}
