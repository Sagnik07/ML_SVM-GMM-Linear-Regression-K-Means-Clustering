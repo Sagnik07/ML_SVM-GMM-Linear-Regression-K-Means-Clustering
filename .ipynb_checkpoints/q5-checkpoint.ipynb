{
 "cells": [
  {
   "cell_type": "code",
   "execution_count": null,
   "metadata": {},
   "outputs": [],
   "source": [
    "from google.colab import drive\n",
    "drive.mount('/content/drive')"
   ]
  },
  {
   "cell_type": "code",
   "execution_count": 0,
   "metadata": {
    "colab": {},
    "colab_type": "code",
    "id": "9qetgY7DJ6ew"
   },
   "outputs": [],
   "source": [
    "import pandas as pd \n",
    "from pandas import DataFrame\n",
    "import math\n",
    "import numpy as np\n",
    "from numpy import genfromtxt\n",
    "import sklearn\n",
    "import sys\n",
    "import matplotlib\n",
    "from sklearn.metrics import accuracy_score\n",
    "from sklearn.metrics import confusion_matrix\n",
    "from sklearn.metrics import f1_score\n",
    "from sklearn.metrics import r2_score\n",
    "from sklearn.metrics import mean_squared_error\n",
    "from sklearn.metrics import mean_absolute_error\n",
    "from sklearn.preprocessing import LabelEncoder\n",
    "from sklearn.feature_extraction.text import TfidfVectorizer\n",
    "from sklearn.model_selection import train_test_split\n",
    "from sklearn.svm import SVC\n",
    "from nltk.corpus import stopwords\n",
    "from sklearn import linear_model\n",
    "from sklearn.svm import LinearSVC\n",
    "import matplotlib.pyplot as plt"
   ]
  },
  {
   "cell_type": "markdown",
   "metadata": {
    "colab_type": "text",
    "id": "WGEh_m06nexu"
   },
   "source": [
    "## Training data\n",
    "The data is read from the CSV files and labels of the authors are stored."
   ]
  },
  {
   "cell_type": "code",
   "execution_count": 0,
   "metadata": {
    "colab": {},
    "colab_type": "code",
    "id": "eIXR6BVaI43Q"
   },
   "outputs": [],
   "source": [
    "data=pd.read_csv('/content/drive/My Drive/Assignment-2_Dataset/Datasets/Question-5/Train(1).csv')\n",
    "y=data['author']\n",
    "y=y.to_numpy()\n"
   ]
  },
  {
   "cell_type": "markdown",
   "metadata": {
    "colab_type": "text",
    "id": "Eev85Ddepf5O"
   },
   "source": [
    "## Applying TfidVectorizer on the traning data and predicting the output, we get an accuracy of 82.12% "
   ]
  },
  {
   "cell_type": "code",
   "execution_count": 5,
   "metadata": {
    "colab": {
     "base_uri": "https://localhost:8080/",
     "height": 34
    },
    "colab_type": "code",
    "id": "L8Ottf3KoNd6",
    "outputId": "6d2537d0-9cd9-4552-ed02-c6ffed8073f9"
   },
   "outputs": [
    {
     "name": "stdout",
     "output_type": "stream",
     "text": [
      "Accuracy:  82.12575805936801\n"
     ]
    }
   ],
   "source": [
    "vectorizer = TfidfVectorizer()\n",
    "vectors = vectorizer.fit_transform(data['text'])\n",
    "X=vectors\n",
    "X_train, X_test, y_train, y_test = train_test_split(X, y, test_size = 0.20)\n",
    "clf_c1 = LinearSVC(C=1.0)\n",
    "clf_c1.fit(X_train, y_train)\n",
    "y_pred_c1=clf_c1.predict(X_test)\n",
    "accuracy_c1 = accuracy_score(y_test, y_pred_c1)\n",
    "print(\"Accuracy: \",accuracy_c1*100)"
   ]
  },
  {
   "cell_type": "markdown",
   "metadata": {
    "colab_type": "text",
    "id": "qH-Wd_orpz6I"
   },
   "source": [
    "## Pre Processing data\n",
    "There are many words in the english language which occur multiple times in all sentences and hence does not significantly help distinguish them. Thus, we run our model by removing all such words which are commonly referred to as \"stop words\"."
   ]
  },
  {
   "cell_type": "code",
   "execution_count": null,
   "metadata": {},
   "outputs": [],
   "source": [
    "vectorizer = TfidfVectorizer(stop_words=\"english\")\n",
    "vectors = vectorizer.fit_transform(data['text'])\n",
    "feature_names = vectorizer.get_feature_names()\n",
    "print(feature_names)\n",
    "print(vectors.shape)\n",
    "dense = vectors.todense()\n",
    "denselist = dense.tolist()\n",
    "df = pd.DataFrame(denselist, columns=feature_names)\n",
    "X=df.to_numpy()"
   ]
  },
  {
   "cell_type": "markdown",
   "metadata": {
    "colab_type": "text",
    "id": "j-6pKXNfqax9"
   },
   "source": [
    "### The dense matrix is not always needed and thus we take the sparse matrix itself in this case."
   ]
  },
  {
   "cell_type": "code",
   "execution_count": 0,
   "metadata": {
    "colab": {},
    "colab_type": "code",
    "id": "pNp41LGgkI6G"
   },
   "outputs": [],
   "source": [
    "vectorizer = TfidfVectorizer(stop_words=\"english\")\n",
    "vectors = vectorizer.fit_transform(data['text'])\n",
    "X=vectors"
   ]
  },
  {
   "cell_type": "markdown",
   "metadata": {
    "colab_type": "text",
    "id": "E9UViGZQr0pb"
   },
   "source": [
    "## Splitting the training dataset into train and test sets."
   ]
  },
  {
   "cell_type": "code",
   "execution_count": 0,
   "metadata": {
    "colab": {},
    "colab_type": "code",
    "id": "p27l4M6uI5C9"
   },
   "outputs": [],
   "source": [
    "X_train, X_test, y_train, y_test = train_test_split(X, y, test_size = 0.20)\n"
   ]
  },
  {
   "cell_type": "markdown",
   "metadata": {
    "colab_type": "text",
    "id": "GFv4KC0BqdZp"
   },
   "source": [
    "# Results"
   ]
  },
  {
   "cell_type": "markdown",
   "metadata": {
    "colab_type": "text",
    "id": "twnj2LTNsRit"
   },
   "source": [
    "## Testing the accuracy of our model by tweaking the different kernels of SVM Classifier."
   ]
  },
  {
   "cell_type": "markdown",
   "metadata": {
    "colab_type": "text",
    "id": "rfzKlH5BlpnU"
   },
   "source": [
    "## SVM Classifier with 'linear' kernel"
   ]
  },
  {
   "cell_type": "code",
   "execution_count": 0,
   "metadata": {
    "colab": {},
    "colab_type": "code",
    "id": "u4NN7zKhmW_k"
   },
   "outputs": [],
   "source": [
    "#SVClassifier\n",
    "svclassifier = SVC(kernel='linear')\n",
    "svclassifier.fit(X_train, y_train)"
   ]
  },
  {
   "cell_type": "code",
   "execution_count": 0,
   "metadata": {
    "colab": {
     "base_uri": "https://localhost:8080/",
     "height": 34
    },
    "colab_type": "code",
    "id": "WPw7a58whZdK",
    "outputId": "02998163-247c-46bc-d350-ecfa0bb96adf"
   },
   "outputs": [
    {
     "name": "stdout",
     "output_type": "stream",
     "text": [
      "Accuracy:  79.57229492499202\n"
     ]
    }
   ],
   "source": [
    "#SVC\n",
    "y_pred = svclassifier.predict(X_test)\n",
    "accuracy = accuracy_score(y_test, y_pred)\n",
    "print(\"Accuracy: \",accuracy*100)"
   ]
  },
  {
   "cell_type": "markdown",
   "metadata": {
    "colab_type": "text",
    "id": "uCmKKZXYtCOM"
   },
   "source": [
    "## SVM Classifier with 'rbf' kernel"
   ]
  },
  {
   "cell_type": "code",
   "execution_count": 0,
   "metadata": {
    "colab": {},
    "colab_type": "code",
    "id": "XU_oORZ4sqnB"
   },
   "outputs": [],
   "source": [
    "svclassifier_kr = SVC(kernel='rbf')\n",
    "svclassifier_kr.fit(X_train, y_train)"
   ]
  },
  {
   "cell_type": "code",
   "execution_count": 0,
   "metadata": {
    "colab": {
     "base_uri": "https://localhost:8080/",
     "height": 34
    },
    "colab_type": "code",
    "id": "kf8uKy6ysuBo",
    "outputId": "fb62e9a4-849d-4b92-b7b3-5ecee743e9db"
   },
   "outputs": [
    {
     "name": "stdout",
     "output_type": "stream",
     "text": [
      "Accuracy:  76.28471113948292\n"
     ]
    }
   ],
   "source": [
    "y_pred_kr = svclassifier_kr.predict(X_test)\n",
    "accuracy_kr = accuracy_score(y_test, y_pred_kr)\n",
    "print(\"Accuracy: \",accuracy_kr*100)"
   ]
  },
  {
   "cell_type": "markdown",
   "metadata": {
    "colab_type": "text",
    "id": "1V9dAXOy0B3b"
   },
   "source": [
    "## SVM Classifier with 'poly' kernel"
   ]
  },
  {
   "cell_type": "code",
   "execution_count": 0,
   "metadata": {
    "colab": {},
    "colab_type": "code",
    "id": "y4OdxIQQgu-x"
   },
   "outputs": [],
   "source": [
    "svclassifier = SVC(kernel='poly')\n",
    "svclassifier.fit(X_train, y_train)"
   ]
  },
  {
   "cell_type": "code",
   "execution_count": 0,
   "metadata": {
    "colab": {
     "base_uri": "https://localhost:8080/",
     "height": 34
    },
    "colab_type": "code",
    "id": "eTGpQDlVz-OR",
    "outputId": "8162acde-8479-491a-e8a6-e007d53ee79e"
   },
   "outputs": [
    {
     "name": "stdout",
     "output_type": "stream",
     "text": [
      "Accuracy:  43.21736354931376\n"
     ]
    }
   ],
   "source": [
    "y_pred = svclassifier.predict(X_test)\n",
    "accuracy = accuracy_score(y_test, y_pred)\n",
    "print(\"Accuracy: \",accuracy*100)"
   ]
  },
  {
   "cell_type": "markdown",
   "metadata": {
    "colab_type": "text",
    "id": "EnS02QCQtuqk"
   },
   "source": [
    "## Thus we see that we get the best accuracy results for SVM classifier with linear kernel."
   ]
  },
  {
   "cell_type": "markdown",
   "metadata": {
    "colab_type": "text",
    "id": "yUJOwK82lzO0"
   },
   "source": [
    "# Linear SVC"
   ]
  },
  {
   "cell_type": "markdown",
   "metadata": {
    "colab_type": "text",
    "id": "ncobbGcQqjJQ"
   },
   "source": [
    "## Testing accuracy, F1 score and confusion matrix for different values of C"
   ]
  },
  {
   "cell_type": "markdown",
   "metadata": {
    "colab_type": "text",
    "id": "hkkOtRFdqrSO"
   },
   "source": [
    "### C=1.0"
   ]
  },
  {
   "cell_type": "code",
   "execution_count": 0,
   "metadata": {
    "colab": {},
    "colab_type": "code",
    "id": "4_R-Nvz7obEM"
   },
   "outputs": [],
   "source": [
    "clf_c1 = LinearSVC(C=1.0)\n",
    "clf_c1.fit(X_train, y_train)"
   ]
  },
  {
   "cell_type": "code",
   "execution_count": 0,
   "metadata": {
    "colab": {
     "base_uri": "https://localhost:8080/",
     "height": 34
    },
    "colab_type": "code",
    "id": "TGzN6XmFOceb",
    "outputId": "567c6e9b-41d9-4fdb-b884-a0c6cc6981e0"
   },
   "outputs": [
    {
     "name": "stdout",
     "output_type": "stream",
     "text": [
      "Accuracy:  80.81710820300032\n"
     ]
    }
   ],
   "source": [
    "#LinearSVC\n",
    "y_pred_c1=clf_c1.predict(X_test)\n",
    "accuracy_c1 = accuracy_score(y_test, y_pred_c1)\n",
    "print(\"Accuracy: \",accuracy_c1*100)"
   ]
  },
  {
   "cell_type": "code",
   "execution_count": 0,
   "metadata": {
    "colab": {
     "base_uri": "https://localhost:8080/",
     "height": 34
    },
    "colab_type": "code",
    "id": "hOe3TwvunXei",
    "outputId": "4e8615db-fff3-4f83-b605-1bc8c184362e"
   },
   "outputs": [
    {
     "name": "stdout",
     "output_type": "stream",
     "text": [
      "F1 score:  0.8063650255770661\n"
     ]
    }
   ],
   "source": [
    "f1 = f1_score(y_test, y_pred_c1,  average='macro')\n",
    "print(\"F1 score: \",f1)"
   ]
  },
  {
   "cell_type": "code",
   "execution_count": 0,
   "metadata": {
    "colab": {
     "base_uri": "https://localhost:8080/",
     "height": 69
    },
    "colab_type": "code",
    "id": "Z5x63RM9obXG",
    "outputId": "0924a2b8-d91a-4d94-e07d-7fcdd8c562ea"
   },
   "outputs": [
    {
     "name": "stdout",
     "output_type": "stream",
     "text": [
      "[[1090   90  109]\n",
      " [ 130  701   62]\n",
      " [ 149   61  741]]\n"
     ]
    }
   ],
   "source": [
    "print(confusion_matrix(y_test, y_pred_c1))"
   ]
  },
  {
   "cell_type": "markdown",
   "metadata": {
    "colab_type": "text",
    "id": "Klv_3rz8qwmd"
   },
   "source": [
    "### C=2.0"
   ]
  },
  {
   "cell_type": "code",
   "execution_count": 0,
   "metadata": {
    "colab": {},
    "colab_type": "code",
    "id": "ZLonR8tdlLAd"
   },
   "outputs": [],
   "source": [
    "clf_c2 = LinearSVC(C=2.0)\n",
    "clf_c2.fit(X_train, y_train)"
   ]
  },
  {
   "cell_type": "code",
   "execution_count": 0,
   "metadata": {
    "colab": {
     "base_uri": "https://localhost:8080/",
     "height": 34
    },
    "colab_type": "code",
    "id": "RAB_DFxqlLXv",
    "outputId": "0838baba-92c2-4ddc-a511-5c35dd202159"
   },
   "outputs": [
    {
     "name": "stdout",
     "output_type": "stream",
     "text": [
      "Accuracy:  79.82764123842962\n"
     ]
    }
   ],
   "source": [
    "y_pred_c2=clf_c2.predict(X_test)\n",
    "accuracy_c2 = accuracy_score(y_test, y_pred_c2)\n",
    "print(\"Accuracy: \",accuracy_c2*100)"
   ]
  },
  {
   "cell_type": "code",
   "execution_count": 0,
   "metadata": {
    "colab": {
     "base_uri": "https://localhost:8080/",
     "height": 34
    },
    "colab_type": "code",
    "id": "T5MfNgzPnUIW",
    "outputId": "71cc310a-1fe9-4f09-9c22-7da9f5c35ce0"
   },
   "outputs": [
    {
     "name": "stdout",
     "output_type": "stream",
     "text": [
      "F1 score:  0.7968813117217328\n"
     ]
    }
   ],
   "source": [
    "f1 = f1_score(y_test, y_pred_c2,  average='macro')\n",
    "print(\"F1 score: \",f1)"
   ]
  },
  {
   "cell_type": "code",
   "execution_count": 0,
   "metadata": {
    "colab": {
     "base_uri": "https://localhost:8080/",
     "height": 69
    },
    "colab_type": "code",
    "id": "p1E_w1EzoYki",
    "outputId": "36cc9601-bdc1-4df2-f6ed-d3a07b620772"
   },
   "outputs": [
    {
     "name": "stdout",
     "output_type": "stream",
     "text": [
      "[[1070   94  125]\n",
      " [ 140  692   61]\n",
      " [ 150   62  739]]\n"
     ]
    }
   ],
   "source": [
    "print(confusion_matrix(y_test, y_pred_c2))"
   ]
  },
  {
   "cell_type": "markdown",
   "metadata": {
    "colab_type": "text",
    "id": "bN6L6eYTqzUW"
   },
   "source": [
    "### C=4.0"
   ]
  },
  {
   "cell_type": "code",
   "execution_count": 0,
   "metadata": {
    "colab": {},
    "colab_type": "code",
    "id": "eKZHqi3zlW8q"
   },
   "outputs": [],
   "source": [
    "clf_c4 = LinearSVC(C=4.0)\n",
    "clf_c4.fit(X_train, y_train)"
   ]
  },
  {
   "cell_type": "code",
   "execution_count": 0,
   "metadata": {
    "colab": {
     "base_uri": "https://localhost:8080/",
     "height": 34
    },
    "colab_type": "code",
    "id": "kQoAI9mUlXKp",
    "outputId": "34c1a783-f735-41ce-af40-ad930230498e"
   },
   "outputs": [
    {
     "name": "stdout",
     "output_type": "stream",
     "text": [
      "Accuracy:  79.22119374401532\n"
     ]
    }
   ],
   "source": [
    "y_pred_c4=clf_c4.predict(X_test)\n",
    "accuracy_c4 = accuracy_score(y_test, y_pred_c4)\n",
    "print(\"Accuracy: \",accuracy_c4*100)"
   ]
  },
  {
   "cell_type": "code",
   "execution_count": 0,
   "metadata": {
    "colab": {
     "base_uri": "https://localhost:8080/",
     "height": 34
    },
    "colab_type": "code",
    "id": "C7_divjznQC_",
    "outputId": "02248175-317e-4fd7-dbfe-f11d2eadbeb8"
   },
   "outputs": [
    {
     "name": "stdout",
     "output_type": "stream",
     "text": [
      "F1 score:  0.7908432231030327\n"
     ]
    }
   ],
   "source": [
    "f1 = f1_score(y_test, y_pred_c4,  average='macro')\n",
    "print(\"F1 score: \",f1)"
   ]
  },
  {
   "cell_type": "code",
   "execution_count": 0,
   "metadata": {
    "colab": {
     "base_uri": "https://localhost:8080/",
     "height": 69
    },
    "colab_type": "code",
    "id": "LsEmG_J7oWQ-",
    "outputId": "c2ce8c8c-d44f-450a-8f89-d4208bb1bcf8"
   },
   "outputs": [
    {
     "name": "stdout",
     "output_type": "stream",
     "text": [
      "[[1053  109  127]\n",
      " [ 138  687   68]\n",
      " [ 148   61  742]]\n"
     ]
    }
   ],
   "source": [
    "print(confusion_matrix(y_test, y_pred_c4))"
   ]
  },
  {
   "cell_type": "markdown",
   "metadata": {
    "colab_type": "text",
    "id": "H0XS60b7q2jP"
   },
   "source": [
    "### C=8.0"
   ]
  },
  {
   "cell_type": "code",
   "execution_count": 0,
   "metadata": {
    "colab": {},
    "colab_type": "code",
    "id": "ib8WdtEVlkHF"
   },
   "outputs": [],
   "source": [
    "clf_c8 = LinearSVC(C=8.0)\n",
    "clf_c8.fit(X_train, y_train)"
   ]
  },
  {
   "cell_type": "code",
   "execution_count": 0,
   "metadata": {
    "colab": {
     "base_uri": "https://localhost:8080/",
     "height": 34
    },
    "colab_type": "code",
    "id": "aJbtnStzllwM",
    "outputId": "c0063b12-bcad-4a04-8b74-b049e0b980e1"
   },
   "outputs": [
    {
     "name": "stdout",
     "output_type": "stream",
     "text": [
      "Accuracy:  77.78487073092883\n"
     ]
    }
   ],
   "source": [
    "y_pred_c8=clf_c8.predict(X_test)\n",
    "accuracy_c8 = accuracy_score(y_test, y_pred_c8)\n",
    "print(\"Accuracy: \",accuracy_c8*100)"
   ]
  },
  {
   "cell_type": "code",
   "execution_count": 0,
   "metadata": {
    "colab": {
     "base_uri": "https://localhost:8080/",
     "height": 34
    },
    "colab_type": "code",
    "id": "YO4yzUgknLWx",
    "outputId": "c09946e5-e1fa-42a6-d8de-cf89ec390898"
   },
   "outputs": [
    {
     "name": "stdout",
     "output_type": "stream",
     "text": [
      "F1 score:  0.7765464095747285\n"
     ]
    }
   ],
   "source": [
    "f1 = f1_score(y_test, y_pred_c8,  average='macro')\n",
    "print(\"F1 score: \",f1)"
   ]
  },
  {
   "cell_type": "code",
   "execution_count": 0,
   "metadata": {
    "colab": {
     "base_uri": "https://localhost:8080/",
     "height": 69
    },
    "colab_type": "code",
    "id": "7xBBp-iaoSkc",
    "outputId": "5f38ed93-2006-4fa6-8477-137a354fea81"
   },
   "outputs": [
    {
     "name": "stdout",
     "output_type": "stream",
     "text": [
      "[[1034  120  135]\n",
      " [ 139  682   72]\n",
      " [ 165   65  721]]\n"
     ]
    }
   ],
   "source": [
    "print(confusion_matrix(y_test, y_pred_c8))"
   ]
  },
  {
   "cell_type": "markdown",
   "metadata": {
    "colab_type": "text",
    "id": "8oULS2TVq5RE"
   },
   "source": [
    "### C=16.0"
   ]
  },
  {
   "cell_type": "code",
   "execution_count": 0,
   "metadata": {
    "colab": {},
    "colab_type": "code",
    "id": "R7jymFHrmaPC"
   },
   "outputs": [],
   "source": [
    "clf_c16 = LinearSVC(C=16.0)\n",
    "clf_c16.fit(X_train, y_train)"
   ]
  },
  {
   "cell_type": "code",
   "execution_count": 0,
   "metadata": {
    "colab": {
     "base_uri": "https://localhost:8080/",
     "height": 34
    },
    "colab_type": "code",
    "id": "QFMFk3mimZNH",
    "outputId": "60325a5e-0770-4cc1-9c2c-a32068c6d416"
   },
   "outputs": [
    {
     "name": "stdout",
     "output_type": "stream",
     "text": [
      "Accuracy:  76.73156718799873\n"
     ]
    }
   ],
   "source": [
    "y_pred_c16=clf_c16.predict(X_test)\n",
    "accuracy_c16 = accuracy_score(y_test, y_pred_c16)\n",
    "print(\"Accuracy: \",accuracy_c16*100)"
   ]
  },
  {
   "cell_type": "code",
   "execution_count": 0,
   "metadata": {
    "colab": {
     "base_uri": "https://localhost:8080/",
     "height": 34
    },
    "colab_type": "code",
    "id": "hUq-fd33m27z",
    "outputId": "3d31bf33-89e3-4e4a-ef58-a394cc713603"
   },
   "outputs": [
    {
     "name": "stdout",
     "output_type": "stream",
     "text": [
      "F1 score:  0.7660462997479883\n"
     ]
    }
   ],
   "source": [
    "f1 = f1_score(y_test, y_pred_c16,  average='macro')\n",
    "print(\"F1 score: \",f1)"
   ]
  },
  {
   "cell_type": "code",
   "execution_count": 0,
   "metadata": {
    "colab": {
     "base_uri": "https://localhost:8080/",
     "height": 69
    },
    "colab_type": "code",
    "id": "AkyGdMIjn0aE",
    "outputId": "f1cef715-5a46-4f0a-e9fa-d5c384a5fbe6"
   },
   "outputs": [
    {
     "name": "stdout",
     "output_type": "stream",
     "text": [
      "[[1016  129  144]\n",
      " [ 144  672   77]\n",
      " [ 168   67  716]]\n"
     ]
    }
   ],
   "source": [
    "print(confusion_matrix(y_test, y_pred_c16))"
   ]
  },
  {
   "cell_type": "markdown",
   "metadata": {
    "colab_type": "text",
    "id": "vtHxVEJ9q9fP"
   },
   "source": [
    "## Plotting accuracy for different values of C\n",
    "We see a trend that the accuracy slowly reduces as we increase the value of C"
   ]
  },
  {
   "cell_type": "code",
   "execution_count": 0,
   "metadata": {
    "colab": {
     "base_uri": "https://localhost:8080/",
     "height": 312
    },
    "colab_type": "code",
    "id": "Uf90gK4LpChl",
    "outputId": "98605ba1-76de-46f1-915b-58abd8b939d5"
   },
   "outputs": [
    {
     "data": {
      "text/plain": [
       "Text(0.5, 1.0, 'Accuracy for different values of C')"
      ]
     },
     "execution_count": 43,
     "metadata": {
      "tags": []
     },
     "output_type": "execute_result"
    },
    {
     "data": {
      "image/png": "[encoded data removed]",
      "text/plain": [
       "<Figure size 432x288 with 1 Axes>"
      ]
     },
     "metadata": {
      "tags": []
     },
     "output_type": "display_data"
    }
   ],
   "source": [
    "C=[1,2,4,8,16]\n",
    "accuracy=[accuracy_c1, accuracy_c2, accuracy_c4, accuracy_c8, accuracy_c16]\n",
    "plt.plot(C, accuracy)\n",
    "plt.xlabel('Value of C for Linear SVC')\n",
    "plt.ylabel('Testing Accuracy')\n",
    "plt.title(\"Accuracy for different values of C\")"
   ]
  },
  {
   "cell_type": "markdown",
   "metadata": {
    "colab_type": "text",
    "id": "hXdagGBirJue"
   },
   "source": [
    "### Testing by increasing the maximum number of iterations parameter for Linear SVC"
   ]
  },
  {
   "cell_type": "code",
   "execution_count": 0,
   "metadata": {
    "colab": {},
    "colab_type": "code",
    "id": "MB0XJcp5l0oJ"
   },
   "outputs": [],
   "source": [
    "clf_c1it = LinearSVC(C=1.0, max_iter=10000)\n",
    "clf_c1it.fit(X_train, y_train)"
   ]
  },
  {
   "cell_type": "code",
   "execution_count": 0,
   "metadata": {
    "colab": {
     "base_uri": "https://localhost:8080/",
     "height": 34
    },
    "colab_type": "code",
    "id": "8_2J4HK5lzW7",
    "outputId": "52128c30-b436-4267-d3f1-cd7cebb66123"
   },
   "outputs": [
    {
     "name": "stdout",
     "output_type": "stream",
     "text": [
      "Accuracy:  80.81710820300032\n"
     ]
    }
   ],
   "source": [
    "y_pred_c1it=clf_c1it.predict(X_test)\n",
    "accuracy_c1it = accuracy_score(y_test, y_pred_c1it)\n",
    "print(\"Accuracy: \",accuracy_c1it*100)"
   ]
  },
  {
   "cell_type": "markdown",
   "metadata": {
    "colab_type": "text",
    "id": "C5XMJ62rl4El"
   },
   "source": [
    "# SGD Classifier"
   ]
  },
  {
   "cell_type": "markdown",
   "metadata": {
    "colab_type": "text",
    "id": "5qyhuiONrUTr"
   },
   "source": [
    "## Testing for accuracy, F1 score and confusion matrix using SGD Classifier"
   ]
  },
  {
   "cell_type": "code",
   "execution_count": 0,
   "metadata": {
    "colab": {},
    "colab_type": "code",
    "id": "jKTIaXlrfG8H"
   },
   "outputs": [],
   "source": [
    "clf_sgd = linear_model.SGDClassifier()\n",
    "clf_sgd.fit(X_train, y_train)"
   ]
  },
  {
   "cell_type": "code",
   "execution_count": 0,
   "metadata": {
    "colab": {
     "base_uri": "https://localhost:8080/",
     "height": 34
    },
    "colab_type": "code",
    "id": "43P6o8xIOaf7",
    "outputId": "db2d592f-b109-4691-a999-7585b82e4e9d"
   },
   "outputs": [
    {
     "name": "stdout",
     "output_type": "stream",
     "text": [
      "Accuracy:  80.81710820300032\n"
     ]
    }
   ],
   "source": [
    "#SGD\n",
    "y_pred_sgd=clf.predict(X_test)\n",
    "accuracy_sgd = accuracy_score(y_test, y_pred_sgd)\n",
    "print(\"Accuracy: \",accuracy_sgd*100)"
   ]
  },
  {
   "cell_type": "code",
   "execution_count": 0,
   "metadata": {
    "colab": {
     "base_uri": "https://localhost:8080/",
     "height": 34
    },
    "colab_type": "code",
    "id": "MawBxGCkoqyy",
    "outputId": "5b210240-4323-4f1e-fe0d-333f7dd3d56d"
   },
   "outputs": [
    {
     "name": "stdout",
     "output_type": "stream",
     "text": [
      "F1 score:  0.8054549474879739\n"
     ]
    }
   ],
   "source": [
    "f1 = f1_score(y_test, y_pred_sgd,  average='macro')\n",
    "print(\"F1 score: \",f1)"
   ]
  },
  {
   "cell_type": "code",
   "execution_count": 0,
   "metadata": {
    "colab": {
     "base_uri": "https://localhost:8080/",
     "height": 69
    },
    "colab_type": "code",
    "id": "wAO-c1JmoyH5",
    "outputId": "caf40810-d5c9-4b6f-a070-d4d791a519ba"
   },
   "outputs": [
    {
     "name": "stdout",
     "output_type": "stream",
     "text": [
      "[[1104   87   98]\n",
      " [ 131  695   67]\n",
      " [ 152   66  733]]\n"
     ]
    }
   ],
   "source": [
    "print(confusion_matrix(y_test, y_pred_sgd))"
   ]
  }
 ],
 "metadata": {
  "accelerator": "GPU",
  "colab": {
   "collapsed_sections": [],
   "machine_shape": "hm",
   "name": "assign2q5.ipynb",
   "provenance": []
  },
  "kernelspec": {
   "display_name": "Python 3",
   "language": "python",
   "name": "python3"
  },
  "language_info": {
   "codemirror_mode": {
    "name": "ipython",
    "version": 3
   },
   "file_extension": ".py",
   "mimetype": "text/x-python",
   "name": "python",
   "nbconvert_exporter": "python",
   "pygments_lexer": "ipython3",
   "version": "3.6.9"
  }
 },
 "nbformat": 4,
 "nbformat_minor": 1
}
