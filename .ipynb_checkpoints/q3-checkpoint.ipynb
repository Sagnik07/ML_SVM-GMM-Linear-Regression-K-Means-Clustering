{
 "cells": [
  {
   "cell_type": "code",
   "execution_count": null,
   "metadata": {},
   "outputs": [],
   "source": [
    "from google.colab import drive\n",
    "drive.mount('/content/drive')"
   ]
  },
  {
   "cell_type": "code",
   "execution_count": 0,
   "metadata": {
    "colab": {},
    "colab_type": "code",
    "id": "Ni2wOoCRnnX4"
   },
   "outputs": [],
   "source": [
    "import pandas as pd \n",
    "from pandas import DataFrame\n",
    "import math\n",
    "import numpy as np\n",
    "from numpy import genfromtxt\n",
    "import sklearn\n",
    "from collections import Counter\n",
    "import sys\n",
    "import matplotlib\n",
    "from sklearn.metrics import accuracy_score\n",
    "from sklearn.metrics import r2_score\n",
    "from sklearn.metrics import mean_squared_error\n",
    "from sklearn.metrics import mean_absolute_error\n",
    "from sklearn.preprocessing import LabelEncoder\n",
    "from sklearn.tree import DecisionTreeRegressor\n",
    "from sklearn.feature_extraction.text import TfidfVectorizer\n",
    "from sklearn.model_selection import train_test_split\n",
    "from sklearn.svm import SVC\n",
    "from nltk.corpus import stopwords\n",
    "from sklearn import linear_model\n",
    "from sklearn.svm import LinearSVC\n",
    "from sklearn.preprocessing import StandardScaler\n",
    "from sklearn.preprocessing import MinMaxScaler\n",
    "from matplotlib import pyplot as plt "
   ]
  },
  {
   "cell_type": "markdown",
   "metadata": {
    "colab_type": "text",
    "id": "a5Bv0jVsaYLp"
   },
   "source": [
    "## Training data\n",
    "We read data from the files and scale it using MinMax scaler."
   ]
  },
  {
   "cell_type": "code",
   "execution_count": 3,
   "metadata": {
    "colab": {
     "base_uri": "https://localhost:8080/",
     "height": 139
    },
    "colab_type": "code",
    "collapsed": true,
    "id": "HYb6Ax8ynwm5",
    "outputId": "b3a96141-b27c-4b77-cc3a-ac802e869cc0"
   },
   "outputs": [
    {
     "name": "stdout",
     "output_type": "stream",
     "text": [
      "[[0.39393939 0.18018018 0.72727273 0.19949495 0.07476783]\n",
      " [0.30808081 0.         0.09090909 0.6010101  0.00622727]\n",
      " [0.01010101 0.18018018 0.72727273 0.6010101  0.06697943]\n",
      " ...\n",
      " [0.03030303 0.09009009 0.72727273 0.6010101  0.04713909]\n",
      " [0.1489899  0.14864865 0.27272727 1.         0.02805586]\n",
      " [0.02171717 0.18018018 1.         0.19949495 0.0930119 ]]\n"
     ]
    }
   ],
   "source": [
    "data=pd.read_csv('/content/drive/My Drive/Assignment-2_Dataset/Datasets/Question-3/airfoil.csv', header=None)\n",
    "y=data[5]\n",
    "y=y.to_numpy()\n",
    "X=data.to_numpy()\n",
    "X=X[:,:5]\n",
    "scaler = MinMaxScaler()\n",
    "scaler.fit(X)\n",
    "X=scaler.transform(X)\n",
    "# print(X)"
   ]
  },
  {
   "cell_type": "markdown",
   "metadata": {
    "colab_type": "text",
    "id": "qPT8OwsHlsq0"
   },
   "source": [
    "# Gradient Descent\n",
    "In this section we write the method for the gradient descent algorithm. For the termination condition, we choose a very small threshold value, and terminate if the differnce of the cost function for 2 successive iterations of gradient descent is less than the threshold."
   ]
  },
  {
   "cell_type": "code",
   "execution_count": 0,
   "metadata": {
    "colab": {},
    "colab_type": "code",
    "id": "fKE4f8rzn5lZ"
   },
   "outputs": [],
   "source": [
    "def gradient_descent(X_train, y_train, theta, alpha):\n",
    "    predictions = list()\n",
    "    cost_list = list()\n",
    "    cost_list.append(1e10)\n",
    "    no_of_iterations=0\n",
    "    m=len(y_train)\n",
    "    while True:\n",
    "        temp = np.dot(X_train, theta)\n",
    "        error = temp - y_train\n",
    "        predictions.append(temp)\n",
    "        cost = 1/(2*m) * np.dot(error.T, error)\n",
    "        cost_list.append(cost)\n",
    "        theta = theta - (alpha * (1/m) * np.dot(X_train.T, error))\n",
    "        no_of_iterations = no_of_iterations + 1\n",
    "        if(cost_list[no_of_iterations-1]-cost_list[no_of_iterations] < 1e-9):\n",
    "            break\n",
    "\n",
    "    cost_list.pop(0)\n",
    "    return predictions, cost_list, theta, no_of_iterations"
   ]
  },
  {
   "cell_type": "markdown",
   "metadata": {
    "colab_type": "text",
    "id": "lVaFcaNFZrfl"
   },
   "source": [
    "### In the below section, we split the training data into train and test sets. Then we append a column of ones to the training set and initialize theta with random values."
   ]
  },
  {
   "cell_type": "code",
   "execution_count": 0,
   "metadata": {
    "colab": {
     "base_uri": "https://localhost:8080/",
     "height": 104
    },
    "colab_type": "code",
    "id": "Ma-esWPVn1dX",
    "outputId": "c4a88471-d933-4127-abc3-c2bbcf922a15"
   },
   "outputs": [
    {
     "name": "stdout",
     "output_type": "stream",
     "text": [
      "(961, 5)\n",
      "(961, 6)\n",
      "(241, 5)\n",
      "(241, 6)\n",
      "(961,)\n"
     ]
    }
   ],
   "source": [
    "X_train, X_test, y_train, y_test = train_test_split(X, y, test_size = 0.20)\n",
    "print(X_train.shape)\n",
    "ones = np.ones([X_train.shape[0],1])\n",
    "X_train = np.concatenate((ones,X_train),axis=1)\n",
    "print(X_train.shape)\n",
    "print(X_test.shape)\n",
    "ones = np.ones([X_test.shape[0],1])\n",
    "X_test = np.concatenate((ones,X_test),axis=1)\n",
    "print(X_test.shape)\n",
    "np.random.seed(10)\n",
    "theta = np.random.rand(X_train.shape[1])\n",
    "print(y_train.shape)"
   ]
  },
  {
   "cell_type": "markdown",
   "metadata": {
    "colab_type": "text",
    "id": "YvCaTl69b8Qq"
   },
   "source": [
    "## Learning rate (alpha) = 0.005"
   ]
  },
  {
   "cell_type": "code",
   "execution_count": 0,
   "metadata": {
    "colab": {},
    "colab_type": "code",
    "id": "O8CgAl1xbnQm"
   },
   "outputs": [],
   "source": [
    "alpha = 0.005"
   ]
  },
  {
   "cell_type": "code",
   "execution_count": 0,
   "metadata": {
    "colab": {},
    "colab_type": "code",
    "id": "e6iii4S5n9ek"
   },
   "outputs": [],
   "source": [
    "prediction_list, cost_list, theta, no_of_iterations = gradient_descent(X_train, y_train, theta, alpha)"
   ]
  },
  {
   "cell_type": "markdown",
   "metadata": {
    "colab_type": "text",
    "id": "T4Q5OQT4aQ0j"
   },
   "source": [
    "### We find the predicted values set."
   ]
  },
  {
   "cell_type": "code",
   "execution_count": 0,
   "metadata": {
    "colab": {},
    "colab_type": "code",
    "id": "ELqu6IBJoGtn"
   },
   "outputs": [],
   "source": [
    "y_predicted=np.dot(X_test,theta)"
   ]
  },
  {
   "cell_type": "markdown",
   "metadata": {
    "colab_type": "text",
    "id": "56is8Np8YtGG"
   },
   "source": [
    "## Graph plot \n",
    "The graph shown below depicts how the cost decreases as the number of iterations of gradient descent increases for alpha = 0.005"
   ]
  },
  {
   "cell_type": "code",
   "execution_count": 0,
   "metadata": {
    "colab": {
     "base_uri": "https://localhost:8080/",
     "height": 296
    },
    "colab_type": "code",
    "id": "V308wcRIdPSU",
    "outputId": "76dfbc93-4a8b-495e-cc01-bf91438abb68"
   },
   "outputs": [
    {
     "data": {
      "text/plain": [
       "Text(0, 0.5, 'Cost')"
      ]
     },
     "execution_count": 8,
     "metadata": {
      "tags": []
     },
     "output_type": "execute_result"
    },
    {
     "data": {
      "image/png": "[encoded data removed]",
      "text/plain": [
       "<Figure size 432x288 with 1 Axes>"
      ]
     },
     "metadata": {
      "tags": []
     },
     "output_type": "display_data"
    }
   ],
   "source": [
    "cost = list(cost_list)\n",
    "cost = cost[:5000]\n",
    "n_iterations = [x for x in range(1,no_of_iterations+1)]\n",
    "n_iterations = n_iterations[:5000]\n",
    "plt.plot(n_iterations, cost)\n",
    "plt.xlabel('No. of iterations')\n",
    "plt.ylabel('Cost')"
   ]
  },
  {
   "cell_type": "markdown",
   "metadata": {
    "colab_type": "text",
    "id": "-GW1biJjZAIM"
   },
   "source": [
    "## Result\n",
    "The r2 score is calculated and found out to be **0.538**"
   ]
  },
  {
   "cell_type": "code",
   "execution_count": 0,
   "metadata": {
    "colab": {
     "base_uri": "https://localhost:8080/",
     "height": 34
    },
    "colab_type": "code",
    "id": "Atb3zOA5o-qd",
    "outputId": "b5335a47-2102-4ca7-eb92-617392bdc877"
   },
   "outputs": [
    {
     "data": {
      "text/plain": [
       "0.5382701351103933"
      ]
     },
     "execution_count": 10,
     "metadata": {
      "tags": []
     },
     "output_type": "execute_result"
    }
   ],
   "source": [
    "r2_score(y_test,y_predicted)"
   ]
  },
  {
   "cell_type": "markdown",
   "metadata": {
    "colab_type": "text",
    "id": "NKJO1wLocJYN"
   },
   "source": [
    "## Learning rate (alpha) = 0.01"
   ]
  },
  {
   "cell_type": "code",
   "execution_count": 0,
   "metadata": {
    "colab": {},
    "colab_type": "code",
    "id": "xZcBgXWAcWGv"
   },
   "outputs": [],
   "source": [
    "alpha = 0.01"
   ]
  },
  {
   "cell_type": "code",
   "execution_count": 0,
   "metadata": {
    "colab": {},
    "colab_type": "code",
    "id": "j0AOO4cxcZ3e"
   },
   "outputs": [],
   "source": [
    "prediction_list, cost_list, theta, no_of_iterations = gradient_descent(X_train, y_train, theta, alpha)"
   ]
  },
  {
   "cell_type": "markdown",
   "metadata": {
    "colab_type": "text",
    "id": "CWFwvjNqcePQ"
   },
   "source": [
    "### We find the predicted values set."
   ]
  },
  {
   "cell_type": "code",
   "execution_count": 0,
   "metadata": {
    "colab": {},
    "colab_type": "code",
    "id": "g5Anx8oCcj8Z"
   },
   "outputs": [],
   "source": [
    "y_predicted1=np.dot(X_test,theta)"
   ]
  },
  {
   "cell_type": "markdown",
   "metadata": {
    "colab_type": "text",
    "id": "hX6qVRRDcrLF"
   },
   "source": [
    "## Graph plot \n",
    "The graph shown below depicts how the cost decreases as the number of iterations of gradient descent increases for alpha = 0.01"
   ]
  },
  {
   "cell_type": "code",
   "execution_count": 0,
   "metadata": {
    "colab": {
     "base_uri": "https://localhost:8080/",
     "height": 300
    },
    "colab_type": "code",
    "id": "rX_79djhcviQ",
    "outputId": "691884c8-6304-41a8-c321-35539548c564"
   },
   "outputs": [
    {
     "data": {
      "text/plain": [
       "Text(0, 0.5, 'Cost')"
      ]
     },
     "execution_count": 19,
     "metadata": {
      "tags": []
     },
     "output_type": "execute_result"
    },
    {
     "data": {
      "image/png": "[encoded data removed]",
      "text/plain": [
       "<Figure size 432x288 with 1 Axes>"
      ]
     },
     "metadata": {
      "tags": []
     },
     "output_type": "display_data"
    }
   ],
   "source": [
    "cost = list(cost_list)\n",
    "cost = cost[:5000]\n",
    "n_iterations = [x for x in range(1,no_of_iterations+1)]\n",
    "n_iterations = n_iterations[:5000]\n",
    "plt.plot(n_iterations, cost)\n",
    "plt.xlabel('No. of iterations')\n",
    "plt.ylabel('Cost')"
   ]
  },
  {
   "cell_type": "markdown",
   "metadata": {
    "colab_type": "text",
    "id": "_GAet_Awc5-f"
   },
   "source": [
    "## Result\n",
    "The r2 score is calculated and found out to be **0.480**"
   ]
  },
  {
   "cell_type": "code",
   "execution_count": 0,
   "metadata": {
    "colab": {
     "base_uri": "https://localhost:8080/",
     "height": 34
    },
    "colab_type": "code",
    "id": "OODvdcApc-tV",
    "outputId": "701fbf33-07e6-493f-b767-e59f48c3bb22"
   },
   "outputs": [
    {
     "data": {
      "text/plain": [
       "0.48059777678167115"
      ]
     },
     "execution_count": 20,
     "metadata": {
      "tags": []
     },
     "output_type": "execute_result"
    }
   ],
   "source": [
    "r2_score(y_test,y_predicted1)"
   ]
  },
  {
   "cell_type": "markdown",
   "metadata": {
    "colab_type": "text",
    "id": "rps7-VpddDxq"
   },
   "source": [
    "## Learning rate (alpha) = 0.1"
   ]
  },
  {
   "cell_type": "code",
   "execution_count": 0,
   "metadata": {
    "colab": {},
    "colab_type": "code",
    "id": "DH-QpNBNcW2E"
   },
   "outputs": [],
   "source": [
    "alpha = 0.1"
   ]
  },
  {
   "cell_type": "code",
   "execution_count": 0,
   "metadata": {
    "colab": {},
    "colab_type": "code",
    "id": "8uL7wtuZcatJ"
   },
   "outputs": [],
   "source": [
    "prediction_list, cost_list, theta, no_of_iterations = gradient_descent(X_train, y_train, theta, alpha)"
   ]
  },
  {
   "cell_type": "markdown",
   "metadata": {
    "colab_type": "text",
    "id": "Uk9DAHjTcfQn"
   },
   "source": [
    "### We find the predicted values set."
   ]
  },
  {
   "cell_type": "code",
   "execution_count": 0,
   "metadata": {
    "colab": {},
    "colab_type": "code",
    "id": "K1aep03ock6H"
   },
   "outputs": [],
   "source": [
    "y_predicted2=np.dot(X_test,theta)"
   ]
  },
  {
   "cell_type": "markdown",
   "metadata": {
    "colab_type": "text",
    "id": "jLpx3U5PcsV3"
   },
   "source": [
    "## Graph plot \n",
    "The graph shown below depicts how the cost decreases as the number of iterations of gradient descent increases for alpha = 0.1"
   ]
  },
  {
   "cell_type": "code",
   "execution_count": 0,
   "metadata": {
    "colab": {
     "base_uri": "https://localhost:8080/",
     "height": 296
    },
    "colab_type": "code",
    "id": "SVEFfXoecwh8",
    "outputId": "ff382c3b-6bf9-4604-a57f-8677778a1bea"
   },
   "outputs": [
    {
     "data": {
      "text/plain": [
       "Text(0, 0.5, 'Cost')"
      ]
     },
     "execution_count": 9,
     "metadata": {
      "tags": []
     },
     "output_type": "execute_result"
    },
    {
     "data": {
      "image/png": "[encoded data removed]",
      "text/plain": [
       "<Figure size 432x288 with 1 Axes>"
      ]
     },
     "metadata": {
      "tags": []
     },
     "output_type": "display_data"
    }
   ],
   "source": [
    "cost = list(cost_list)\n",
    "cost = cost[:5000]\n",
    "n_iterations = [x for x in range(1,no_of_iterations+1)]\n",
    "n_iterations = n_iterations[:5000]\n",
    "plt.plot(n_iterations, cost)\n",
    "plt.xlabel('No. of iterations')\n",
    "plt.ylabel('Cost')"
   ]
  },
  {
   "cell_type": "markdown",
   "metadata": {
    "colab_type": "text",
    "id": "2GcVb2ztc3ry"
   },
   "source": [
    "## Result\n",
    "The r2 score is calculated and found out to be **0.61**"
   ]
  },
  {
   "cell_type": "code",
   "execution_count": 0,
   "metadata": {
    "colab": {
     "base_uri": "https://localhost:8080/",
     "height": 34
    },
    "colab_type": "code",
    "id": "3WJHYOu-c2u3",
    "outputId": "fef4430e-bb24-404a-9376-9793a6a14a00"
   },
   "outputs": [
    {
     "data": {
      "text/plain": [
       "0.6155569547805817"
      ]
     },
     "execution_count": 10,
     "metadata": {
      "tags": []
     },
     "output_type": "execute_result"
    }
   ],
   "source": [
    "r2_score(y_test,y_predicted2)"
   ]
  },
  {
   "cell_type": "markdown",
   "metadata": {
    "colab_type": "text",
    "id": "bFZIGcZlwqr2"
   },
   "source": [
    "## We see that we get different accuracy scores for different values of alpha chosen. "
   ]
  },
  {
   "cell_type": "markdown",
   "metadata": {
    "colab_type": "text",
    "id": "X3bJTZxI0LRq"
   },
   "source": [
    "## Now we run our algorithm 3 times for different values of theta keeping alpha constant."
   ]
  },
  {
   "cell_type": "code",
   "execution_count": 7,
   "metadata": {
    "colab": {
     "base_uri": "https://localhost:8080/",
     "height": 34
    },
    "colab_type": "code",
    "id": "XhuDKVxexlq_",
    "outputId": "1a00d673-099d-4a9f-f627-6d509e89d803"
   },
   "outputs": [
    {
     "data": {
      "text/plain": [
       "0.48060111379601667"
      ]
     },
     "execution_count": 7,
     "metadata": {
      "tags": []
     },
     "output_type": "execute_result"
    }
   ],
   "source": [
    "X_train, X_test, y_train, y_test = train_test_split(X, y, test_size = 0.20)\n",
    "# print(X_train.shape)\n",
    "ones = np.ones([X_train.shape[0],1])\n",
    "X_train = np.concatenate((ones,X_train),axis=1)\n",
    "# print(X_train.shape)\n",
    "# print(X_test.shape)\n",
    "ones = np.ones([X_test.shape[0],1])\n",
    "X_test = np.concatenate((ones,X_test),axis=1)\n",
    "# print(X_test.shape)\n",
    "np.random.seed(10)\n",
    "theta = np.random.rand(X_train.shape[1])\n",
    "# print(y_train.shape)\n",
    "alpha = 0.005\n",
    "prediction_list1, cost_list1, theta1, no_of_iterations = gradient_descent(X_train, y_train, theta, alpha)\n",
    "y_predicted1=np.dot(X_test,theta1)\n",
    "r2_score(y_test,y_predicted1)"
   ]
  },
  {
   "cell_type": "code",
   "execution_count": 11,
   "metadata": {
    "colab": {
     "base_uri": "https://localhost:8080/",
     "height": 34
    },
    "colab_type": "code",
    "id": "UtGbO9tOyG6L",
    "outputId": "5cd7e235-db60-4d7c-f708-ff2213300379"
   },
   "outputs": [
    {
     "data": {
      "text/plain": [
       "0.48059996487412004"
      ]
     },
     "execution_count": 11,
     "metadata": {
      "tags": []
     },
     "output_type": "execute_result"
    }
   ],
   "source": [
    "# X_train, X_test, y_train, y_test = train_test_split(X, y, test_size = 0.20)\n",
    "# print(X_train.shape)\n",
    "ones = np.ones([X_train.shape[0],1])\n",
    "X_train = np.concatenate((ones,X_train),axis=1)\n",
    "# print(X_train.shape)\n",
    "# print(X_test.shape)\n",
    "ones = np.ones([X_test.shape[0],1])\n",
    "X_test = np.concatenate((ones,X_test),axis=1)\n",
    "# print(X_test.shape)\n",
    "np.random.seed(10)\n",
    "theta = np.random.rand(X_train.shape[1])\n",
    "# print(y_train.shape)\n",
    "alpha = 0.005\n",
    "prediction_list2, cost_list2, theta2, no_of_iterations = gradient_descent(X_train, y_train, theta, alpha)\n",
    "y_predicted2=np.dot(X_test,theta2)\n",
    "r2_score(y_test,y_predicted2)"
   ]
  },
  {
   "cell_type": "code",
   "execution_count": 12,
   "metadata": {
    "colab": {
     "base_uri": "https://localhost:8080/",
     "height": 34
    },
    "colab_type": "code",
    "id": "xEM-V7DzyPqS",
    "outputId": "f7d2ac42-48a3-4b79-cfc1-fdedc6782497"
   },
   "outputs": [
    {
     "data": {
      "text/plain": [
       "0.4805999486272088"
      ]
     },
     "execution_count": 12,
     "metadata": {
      "tags": []
     },
     "output_type": "execute_result"
    }
   ],
   "source": [
    "# X_train, X_test, y_train, y_test = train_test_split(X, y, test_size = 0.20)\n",
    "# print(X_train.shape)\n",
    "ones = np.ones([X_train.shape[0],1])\n",
    "X_train = np.concatenate((ones,X_train),axis=1)\n",
    "# print(X_train.shape)\n",
    "# print(X_test.shape)\n",
    "ones = np.ones([X_test.shape[0],1])\n",
    "X_test = np.concatenate((ones,X_test),axis=1)\n",
    "# print(X_test.shape)\n",
    "np.random.seed(10)\n",
    "theta = np.random.rand(X_train.shape[1])\n",
    "# print(y_train.shape)\n",
    "alpha = 0.005\n",
    "prediction_list3, cost_list3, theta3, no_of_iterations = gradient_descent(X_train, y_train, theta, alpha)\n",
    "y_predicted3=np.dot(X_test,theta3)\n",
    "r2_score(y_test,y_predicted3)"
   ]
  },
  {
   "cell_type": "code",
   "execution_count": 16,
   "metadata": {
    "colab": {
     "base_uri": "https://localhost:8080/",
     "height": 296
    },
    "colab_type": "code",
    "collapsed": true,
    "id": "8svqnkXzyXaY",
    "outputId": "4fc118ff-fde0-4b5c-a51f-7dc3b116044d"
   },
   "outputs": [
    {
     "name": "stderr",
     "output_type": "stream",
     "text": [
      "No handles with labels found to put in legend.\n"
     ]
    },
    {
     "data": {
      "image/png": "[encoded data removed]",
      "text/plain": [
       "<Figure size 432x288 with 1 Axes>"
      ]
     },
     "metadata": {
      "tags": []
     },
     "output_type": "display_data"
    }
   ],
   "source": [
    "n_iterations = [x for x in range(1,no_of_iterations+1)]\n",
    "n_iterations = n_iterations[:5000]\n",
    "\n",
    "cost_list1=list(cost_list1)\n",
    "cost_list1 = cost_list1[:5000]\n",
    "cost_list2=list(cost_list2)\n",
    "cost_list2 = cost_list2[:5000]\n",
    "cost_list3=list(cost_list3)\n",
    "cost_list3 = cost_list3[:5000]\n",
    "plt.plot(n_iterations,cost_list1, 'r--')\n",
    "plt.plot(n_iterations,cost_list2, 'g*')\n",
    "plt.plot(n_iterations,cost_list3, 'b+')\n",
    "plt.legend(loc='best')\n",
    "plt.axis([0, 300, 0, 1500])\n",
    "plt.xlabel('Number of iterations')\n",
    "plt.ylabel('Cost function value')\n",
    "# plt.figure(figsize=(20,17))\n",
    "plt.show()"
   ]
  },
  {
   "cell_type": "markdown",
   "metadata": {
    "colab_type": "text",
    "id": "wzaDs7oyG2ni"
   },
   "source": [
    "## Q3. If you want to apply regression on some dataset but one of it’s features has missing values under below given conditions, how will you approach the problem.\n",
    "(a) When 0-0.5% of values are missing of that feature : We will take the mean or mode of that feature and replace it with the missing values.\n",
    "\n",
    "(b) When 8-10% of values are missing of that feature : We will take the mean or mode of that feature and replace it with the missing values.\n",
    "\n",
    "(c) When 60-70% of values are missing of that feature : We will drop that feature and continue with the rest of the features."
   ]
  }
 ],
 "metadata": {
  "colab": {
   "collapsed_sections": [],
   "machine_shape": "hm",
   "name": "Copy of assign2q3.ipynb",
   "provenance": []
  },
  "kernelspec": {
   "display_name": "Python 3",
   "language": "python",
   "name": "python3"
  },
  "language_info": {
   "codemirror_mode": {
    "name": "ipython",
    "version": 3
   },
   "file_extension": ".py",
   "mimetype": "text/x-python",
   "name": "python",
   "nbconvert_exporter": "python",
   "pygments_lexer": "ipython3",
   "version": "3.6.9"
  }
 },
 "nbformat": 4,
 "nbformat_minor": 1
}
