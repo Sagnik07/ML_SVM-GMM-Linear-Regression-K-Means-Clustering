{
 "cells": [
  {
   "cell_type": "code",
   "execution_count": null,
   "metadata": {},
   "outputs": [],
   "source": [
    "from google.colab import drive\n",
    "drive.mount('/content/drive')"
   ]
  },
  {
   "cell_type": "code",
   "execution_count": 0,
   "metadata": {
    "colab": {},
    "colab_type": "code",
    "id": "DyV-7Pe5NCpb"
   },
   "outputs": [],
   "source": [
    "import numpy as np\n",
    "from numpy import genfromtxt\n",
    "import math\n",
    "import pandas as pd\n",
    "from collections import Counter\n",
    "from sklearn.metrics import accuracy_score\n",
    "from sklearn.metrics import precision_score\n",
    "from sklearn.metrics import recall_score\n",
    "from sklearn.metrics import f1_score\n",
    "from sklearn.metrics import confusion_matrix\n",
    "import matplotlib.pyplot as plt\n",
    "import random\n",
    "from sklearn.model_selection import train_test_split\n",
    "from sklearn.svm import SVC\n",
    "from sklearn.decomposition import PCA\n",
    "from sklearn.svm import LinearSVC\n",
    "from sklearn import linear_model"
   ]
  },
  {
   "cell_type": "markdown",
   "metadata": {
    "colab_type": "text",
    "id": "FG0OxqErhqw1"
   },
   "source": [
    "### Opening the dataset files and storing in a dictionary."
   ]
  },
  {
   "cell_type": "code",
   "execution_count": 0,
   "metadata": {
    "colab": {},
    "colab_type": "code",
    "id": "MDH5uWNNJrV3"
   },
   "outputs": [],
   "source": [
    "def unpickle(file):\n",
    "    import pickle\n",
    "    with open(file, 'rb') as fo:\n",
    "        dict = pickle.load(fo, encoding='bytes')\n",
    "    return dict"
   ]
  },
  {
   "cell_type": "code",
   "execution_count": null,
   "metadata": {},
   "outputs": [],
   "source": [
    "dict1 = unpickle('/content/drive/My Drive/Assignment-2_Dataset//Datasets/Question-1/cifar-10-python/cifar-10-batches-py/data_batch_1')\n",
    "dict2 = unpickle('/content/drive/My Drive/Assignment-2_Dataset//Datasets/Question-1/cifar-10-python/cifar-10-batches-py/data_batch_2')\n",
    "dict3 = unpickle('/content/drive/My Drive/Assignment-2_Dataset//Datasets/Question-1/cifar-10-python/cifar-10-batches-py/data_batch_3')\n",
    "dict4 = unpickle('/content/drive/My Drive/Assignment-2_Dataset//Datasets/Question-1/cifar-10-python/cifar-10-batches-py/data_batch_4')\n",
    "dict5 = unpickle('/content/drive/My Drive/Assignment-2_Dataset//Datasets/Question-1/cifar-10-python/cifar-10-batches-py/data_batch_5')\n",
    "# print(dict1)\n",
    "# print(dict1.keys())\n",
    "X = np.concatenate((dict1[b'data'], dict2[b'data'], dict3[b'data'], dict4[b'data'], dict5[b'data']), axis=0)\n",
    "y = np.concatenate((dict1[b'labels'], dict2[b'labels'], dict3[b'labels'], dict4[b'labels'], dict5[b'labels']), axis=0)\n",
    "# print(X.shape)\n",
    "# print(y.shape)\n"
   ]
  },
  {
   "cell_type": "markdown",
   "metadata": {
    "colab_type": "text",
    "id": "YFLadi6TiEkF"
   },
   "source": [
    "### Applying Principal Component Analysis (PCA) on the data to reduce it to 150 components."
   ]
  },
  {
   "cell_type": "code",
   "execution_count": 0,
   "metadata": {
    "colab": {
     "base_uri": "https://localhost:8080/",
     "height": 34
    },
    "colab_type": "code",
    "id": "SnSokHNsCK4E",
    "outputId": "e70f0573-7483-430b-c741-4f543cbec9e1"
   },
   "outputs": [
    {
     "name": "stdout",
     "output_type": "stream",
     "text": [
      "(50000, 150)\n"
     ]
    }
   ],
   "source": [
    "pca = PCA(n_components=150)\n",
    "X = pca.fit_transform(X)\n",
    "print(X.shape)"
   ]
  },
  {
   "cell_type": "markdown",
   "metadata": {
    "colab_type": "text",
    "id": "V9M56CLwiNoT"
   },
   "source": [
    "### Splitting the training data into train and test sets.\n"
   ]
  },
  {
   "cell_type": "code",
   "execution_count": 0,
   "metadata": {
    "colab": {},
    "colab_type": "code",
    "id": "pgCsaX8Rpw23"
   },
   "outputs": [],
   "source": [
    "X_train, X_test, y_train, y_test = train_test_split(X, y, test_size = 0.20)"
   ]
  },
  {
   "cell_type": "markdown",
   "metadata": {
    "colab_type": "text",
    "id": "kz86tb1tEKmk"
   },
   "source": [
    "## Testing Linear SVC accuracy with different values of C"
   ]
  },
  {
   "cell_type": "markdown",
   "metadata": {
    "colab_type": "text",
    "id": "j_LuTYa7D_Ir"
   },
   "source": [
    "### Linear SVC with C=1"
   ]
  },
  {
   "cell_type": "code",
   "execution_count": 0,
   "metadata": {
    "colab": {},
    "colab_type": "code",
    "id": "tvI6quiSnhmX"
   },
   "outputs": [],
   "source": [
    "clf_c1 = LinearSVC(C=1.0, max_iter=10000)\n",
    "clf_c1.fit(X_train, y_train)"
   ]
  },
  {
   "cell_type": "code",
   "execution_count": 0,
   "metadata": {
    "colab": {
     "base_uri": "https://localhost:8080/",
     "height": 34
    },
    "colab_type": "code",
    "id": "TYsO0Jq0n2BV",
    "outputId": "399031da-b216-4219-f4fb-8047f9d6993b"
   },
   "outputs": [
    {
     "name": "stdout",
     "output_type": "stream",
     "text": [
      "Accuracy:  23.419999999999998\n"
     ]
    }
   ],
   "source": [
    "#LinearSVC with n_components=300\n",
    "y_pred_c1 = clf_c1.predict(X_test)\n",
    "accuracy_c1 = accuracy_score(y_test, y_pred_c1)\n",
    "print(\"Accuracy: \",accuracy_c1*100)"
   ]
  },
  {
   "cell_type": "code",
   "execution_count": 0,
   "metadata": {
    "colab": {
     "base_uri": "https://localhost:8080/",
     "height": 34
    },
    "colab_type": "code",
    "id": "v9Y-kRIOqyfl",
    "outputId": "88bb4d26-4024-495a-9a07-d6696dfe5cf0"
   },
   "outputs": [
    {
     "name": "stdout",
     "output_type": "stream",
     "text": [
      "F1 score:  0.22716911481830668\n"
     ]
    }
   ],
   "source": [
    "f1 = f1_score(y_test, y_pred_c1,  average='macro')\n",
    "print(\"F1 score: \",f1)"
   ]
  },
  {
   "cell_type": "code",
   "execution_count": 0,
   "metadata": {
    "colab": {
     "base_uri": "https://localhost:8080/",
     "height": 191
    },
    "colab_type": "code",
    "id": "L5dM7OSzrojS",
    "outputId": "1d7bbea9-4955-4436-b619-57ae8d3b4f87"
   },
   "outputs": [
    {
     "name": "stdout",
     "output_type": "stream",
     "text": [
      "[[430  65  50  36  91  31  51  85 113  73]\n",
      " [ 60 274  54  23 177  82  55  45  58 197]\n",
      " [162  50 108  53 244  64 105 102  40 111]\n",
      " [ 78  63  90  93 255  86  95  56  39 107]\n",
      " [ 73  35  72  35 352  69  94  92  24 113]\n",
      " [ 75  40  94  78 376  79  68  52  34  90]\n",
      " [ 60  44  58  41 279  49 221  27  24 167]\n",
      " [100  39  66  44 251  52  82 258  34 111]\n",
      " [209 110  37  24 153  41  32  51 279  78]\n",
      " [ 72 212  46  27  68  45 115  72  78 248]]\n"
     ]
    }
   ],
   "source": [
    "print(confusion_matrix(y_test, y_pred_c1))"
   ]
  },
  {
   "cell_type": "markdown",
   "metadata": {
    "colab_type": "text",
    "id": "3TEsxdrFEGWX"
   },
   "source": [
    "### Linear SVC with C=2"
   ]
  },
  {
   "cell_type": "code",
   "execution_count": 0,
   "metadata": {
    "colab": {},
    "colab_type": "code",
    "id": "cJSepa-4DTc2"
   },
   "outputs": [],
   "source": [
    "clf_c2 = LinearSVC(C=2.0)\n",
    "clf_c2.fit(X_train, y_train)"
   ]
  },
  {
   "cell_type": "code",
   "execution_count": 0,
   "metadata": {
    "colab": {
     "base_uri": "https://localhost:8080/",
     "height": 34
    },
    "colab_type": "code",
    "id": "_e-CHjMODXmg",
    "outputId": "4114b106-4d58-4c82-e59b-014553740f4b"
   },
   "outputs": [
    {
     "name": "stdout",
     "output_type": "stream",
     "text": [
      "Accuracy:  21.560000000000002\n"
     ]
    }
   ],
   "source": [
    "y_pred_c2 = clf_c2.predict(X_test)\n",
    "accuracy_c2 = accuracy_score(y_test, y_pred_c2)\n",
    "print(\"Accuracy: \",accuracy_c2*100)"
   ]
  },
  {
   "cell_type": "code",
   "execution_count": 0,
   "metadata": {
    "colab": {
     "base_uri": "https://localhost:8080/",
     "height": 34
    },
    "colab_type": "code",
    "id": "Hr1m4IlYq0Di",
    "outputId": "a913c141-6dc3-4b13-f63d-1a4f98339fbd"
   },
   "outputs": [
    {
     "name": "stdout",
     "output_type": "stream",
     "text": [
      "F1 score:  0.19212740152981594\n"
     ]
    }
   ],
   "source": [
    "f1 = f1_score(y_test, y_pred_c2,  average='macro')\n",
    "print(\"F1 score: \",f1)"
   ]
  },
  {
   "cell_type": "code",
   "execution_count": 0,
   "metadata": {
    "colab": {
     "base_uri": "https://localhost:8080/",
     "height": 191
    },
    "colab_type": "code",
    "id": "Wd_Aas-zrl20",
    "outputId": "562898a0-f913-4243-d03f-a2e27eb61042"
   },
   "outputs": [
    {
     "name": "stdout",
     "output_type": "stream",
     "text": [
      "[[ 24 298  46  24  92  26  59  52 351  53]\n",
      " [ 11 260  59  55 145  37 139  23 180 116]\n",
      " [ 24  82 154  81 176  49 238  70 139  26]\n",
      " [ 10  67 100 122  99  91 281  51 121  20]\n",
      " [  6  61 152  94 134  50 291  51  91  29]\n",
      " [ 12  56 134 142  88  92 177  58 202  25]\n",
      " [  6  52 146  68  88  50 458  16  65  21]\n",
      " [ 23  75 105  86 157  48 249 135  95  64]\n",
      " [ 16 191  38  27  59  14  22  30 579  38]\n",
      " [ 17 193  43  34 111  31 134  25 197 198]]\n"
     ]
    }
   ],
   "source": [
    "print(confusion_matrix(y_test, y_pred_c2))"
   ]
  },
  {
   "cell_type": "markdown",
   "metadata": {
    "colab_type": "text",
    "id": "XeaaalcWEISW"
   },
   "source": [
    "### Linear SVC with C=4"
   ]
  },
  {
   "cell_type": "code",
   "execution_count": 0,
   "metadata": {
    "colab": {},
    "colab_type": "code",
    "id": "e64QbUt0DVCj"
   },
   "outputs": [],
   "source": [
    "clf_c4 = LinearSVC(C=4.0)\n",
    "clf_c4.fit(X_train, y_train)"
   ]
  },
  {
   "cell_type": "code",
   "execution_count": 0,
   "metadata": {
    "colab": {
     "base_uri": "https://localhost:8080/",
     "height": 34
    },
    "colab_type": "code",
    "id": "XV2zdlsHDZGU",
    "outputId": "9ec199c0-380e-4eb4-dcbd-29f0ed25b509"
   },
   "outputs": [
    {
     "name": "stdout",
     "output_type": "stream",
     "text": [
      "Accuracy:  23.35\n"
     ]
    }
   ],
   "source": [
    "y_pred_c4 = clf_c4.predict(X_test)\n",
    "accuracy_c4 = accuracy_score(y_test, y_pred_c4)\n",
    "print(\"Accuracy: \",accuracy_c4*100)"
   ]
  },
  {
   "cell_type": "code",
   "execution_count": 0,
   "metadata": {
    "colab": {
     "base_uri": "https://localhost:8080/",
     "height": 34
    },
    "colab_type": "code",
    "id": "btVFmenbq1_w",
    "outputId": "e1818bc2-0c61-4ccf-aa72-5c034441280a"
   },
   "outputs": [
    {
     "name": "stdout",
     "output_type": "stream",
     "text": [
      "F1 score:  0.22996864647968432\n"
     ]
    }
   ],
   "source": [
    "f1 = f1_score(y_test, y_pred_c4,  average='macro')\n",
    "print(\"F1 score: \",f1)"
   ]
  },
  {
   "cell_type": "code",
   "execution_count": 0,
   "metadata": {
    "colab": {
     "base_uri": "https://localhost:8080/",
     "height": 191
    },
    "colab_type": "code",
    "id": "vMyvB3qdrfkU",
    "outputId": "2edeea80-a43d-468f-a4a3-c46d57909a69"
   },
   "outputs": [
    {
     "name": "stdout",
     "output_type": "stream",
     "text": [
      "[[409  21 193  53  73  17  18 153  47  41]\n",
      " [ 74 162 106 100 130  42  90  90  73 158]\n",
      " [110  54 112  90 268 113  86 157  20  29]\n",
      " [ 85  37  43 212 138 157 128  98  25  39]\n",
      " [ 82  39  73  67 339 136  70 114   8  31]\n",
      " [109  43  36 157 179 172 132  93  28  37]\n",
      " [ 31  40  22 157 255  80 224 121   7  33]\n",
      " [ 43  51  61  87 183 126  75 335  21  55]\n",
      " [221  34 331  62  65  13  23  60 137  68]\n",
      " [ 60  43 151 136  63  31  50 131  85 233]]\n"
     ]
    }
   ],
   "source": [
    "print(confusion_matrix(y_test, y_pred_c4))"
   ]
  },
  {
   "cell_type": "code",
   "execution_count": 0,
   "metadata": {
    "colab": {},
    "colab_type": "code",
    "id": "Hd5djO0xr3gE"
   },
   "outputs": [],
   "source": [
    "pca = PCA(n_components=200)\n",
    "X = pca.fit_transform(X)\n",
    "print(X.shape)"
   ]
  },
  {
   "cell_type": "code",
   "execution_count": 0,
   "metadata": {
    "colab": {
     "base_uri": "https://localhost:8080/",
     "height": 34
    },
    "colab_type": "code",
    "id": "3olS1Ltds1NM",
    "outputId": "f0bc1169-9e5b-4cf3-b322-ccd6126a4de9"
   },
   "outputs": [
    {
     "name": "stdout",
     "output_type": "stream",
     "text": [
      "Accuracy:  23.200000000000003\n"
     ]
    }
   ],
   "source": [
    "#LinearSVC with n_components=200\n",
    "y_pred = clf.predict(X_test)\n",
    "accuracy = accuracy_score(y_test, y_pred)\n",
    "print(\"Accuracy: \",accuracy*100)"
   ]
  },
  {
   "cell_type": "code",
   "execution_count": 0,
   "metadata": {
    "colab": {
     "base_uri": "https://localhost:8080/",
     "height": 34
    },
    "colab_type": "code",
    "id": "o6Hilv9At2mj",
    "outputId": "719697d7-2fa8-4934-f15a-886c59c2504d"
   },
   "outputs": [
    {
     "name": "stdout",
     "output_type": "stream",
     "text": [
      "(50000, 100)\n"
     ]
    }
   ],
   "source": [
    "pca = PCA(n_components=100)\n",
    "X = pca.fit_transform(X)\n",
    "print(X.shape)"
   ]
  },
  {
   "cell_type": "code",
   "execution_count": 0,
   "metadata": {
    "colab": {},
    "colab_type": "code",
    "id": "iS5cZsVPuz_i"
   },
   "outputs": [],
   "source": [
    "X_train, X_test, y_train, y_test = train_test_split(X, y, test_size = 0.20)"
   ]
  },
  {
   "cell_type": "code",
   "execution_count": 0,
   "metadata": {
    "colab": {},
    "colab_type": "code",
    "id": "_SNZsfcQuYGn"
   },
   "outputs": [],
   "source": [
    "clf_pca_55 = LinearSVC()\n",
    "clf_pca_55.fit(X_train, y_train)"
   ]
  },
  {
   "cell_type": "code",
   "execution_count": 0,
   "metadata": {
    "colab": {
     "base_uri": "https://localhost:8080/",
     "height": 34
    },
    "colab_type": "code",
    "id": "dSEFAbk-t86A",
    "outputId": "111264fd-499c-479f-b55c-6a5cd46e7d2e"
   },
   "outputs": [
    {
     "name": "stdout",
     "output_type": "stream",
     "text": [
      "Accuracy:  14.96\n"
     ]
    }
   ],
   "source": [
    "#LinearSVC with n_components=200\n",
    "y_pred_pca_55 = clf_pca_55.predict(X_test)\n",
    "accuracy_pca_55 = accuracy_score(y_test, y_pred_pca_55)\n",
    "print(\"Accuracy: \",accuracy_pca_55*100)"
   ]
  },
  {
   "cell_type": "markdown",
   "metadata": {
    "colab_type": "text",
    "id": "z4-b-upaCdsi"
   },
   "source": [
    "## Testing the accuracy, F1 score and confusion matrix for SGD Classifier"
   ]
  },
  {
   "cell_type": "code",
   "execution_count": 0,
   "metadata": {
    "colab": {},
    "colab_type": "code",
    "id": "AhsUH6FrBV7n"
   },
   "outputs": [],
   "source": [
    "#SGD\n",
    "clf_sgd = linear_model.SGDClassifier(alpha=1000,n_jobs=-1,max_iter=100000)\n",
    "clf_sgd.fit(X_train, y_train)"
   ]
  },
  {
   "cell_type": "code",
   "execution_count": 0,
   "metadata": {
    "colab": {
     "base_uri": "https://localhost:8080/",
     "height": 34
    },
    "colab_type": "code",
    "id": "2Lg46-vZxBZH",
    "outputId": "5bec8c89-bb20-4c1a-de14-f5ef71f48ade"
   },
   "outputs": [
    {
     "name": "stdout",
     "output_type": "stream",
     "text": [
      "Accuracy:  37.19\n"
     ]
    }
   ],
   "source": [
    "#SGD\n",
    "y_pred_sgd=clf_sgd.predict(X_test)\n",
    "accuracy_sgd = accuracy_score(y_test, y_pred_sgd)\n",
    "print(\"Accuracy: \",accuracy_sgd*100)"
   ]
  },
  {
   "cell_type": "code",
   "execution_count": 0,
   "metadata": {
    "colab": {
     "base_uri": "https://localhost:8080/",
     "height": 34
    },
    "colab_type": "code",
    "id": "K07lKJHMxVhW",
    "outputId": "320c6818-6b94-4c6f-ade6-7120e0eed3ab"
   },
   "outputs": [
    {
     "name": "stdout",
     "output_type": "stream",
     "text": [
      "F1 score:  0.354736999861951\n"
     ]
    }
   ],
   "source": [
    "f1 = f1_score(y_test, y_pred_sgd,  average='macro')\n",
    "print(\"F1 score: \",f1)"
   ]
  },
  {
   "cell_type": "code",
   "execution_count": 0,
   "metadata": {
    "colab": {
     "base_uri": "https://localhost:8080/",
     "height": 191
    },
    "colab_type": "code",
    "collapsed": true,
    "id": "Td4ZvAp_ORY6",
    "outputId": "cb40b2ea-dca7-42aa-f4a4-2926c1445e08"
   },
   "outputs": [
    {
     "name": "stdout",
     "output_type": "stream",
     "text": [
      "[[404  50  19  72  34   6  13  80 288  30]\n",
      " [ 43 545  11  41  51  13  26  51 174  82]\n",
      " [ 88  43 167 129 233  22  65 102 124  24]\n",
      " [ 57  56  45 304 124  81  67  52 132  28]\n",
      " [ 74  32  68  89 466  21  83 125  96  15]\n",
      " [ 53  57  65 286 161  76  61  92 147  13]\n",
      " [ 17  55  40 180 205  28 280  60  72  24]\n",
      " [ 41  58  34  86 162  22  12 459  75  44]\n",
      " [100  57   7  38  24   7   7  22 681  27]\n",
      " [ 63 246   2  38  21   7  24  65 217 337]]\n"
     ]
    }
   ],
   "source": [
    "print(confusion_matrix(y_test,y_pred_sgd))"
   ]
  },
  {
   "cell_type": "markdown",
   "metadata": {
    "colab_type": "text",
    "id": "KtoNQJpJxzV1"
   },
   "source": [
    "## We see the accuracy obtained is 37.19 %"
   ]
  }
 ],
 "metadata": {
  "accelerator": "GPU",
  "colab": {
   "collapsed_sections": [],
   "name": "assign2q1.ipynb",
   "provenance": []
  },
  "kernelspec": {
   "display_name": "Python 3",
   "language": "python",
   "name": "python3"
  },
  "language_info": {
   "codemirror_mode": {
    "name": "ipython",
    "version": 3
   },
   "file_extension": ".py",
   "mimetype": "text/x-python",
   "name": "python",
   "nbconvert_exporter": "python",
   "pygments_lexer": "ipython3",
   "version": "3.6.9"
  }
 },
 "nbformat": 4,
 "nbformat_minor": 1
}
